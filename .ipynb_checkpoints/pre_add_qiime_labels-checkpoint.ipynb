{
 "metadata": {
  "name": "",
  "signature": "sha256:919279bc0a4ce3565a25141460a622de88c82d69de2832b3e6c3e4fa6028fdfc"
 },
 "nbformat": 3,
 "nbformat_minor": 0,
 "worksheets": [
  {
   "cells": [
    {
     "cell_type": "code",
     "collapsed": false,
     "input": [
      "# This takes a bunch of post split_libraries files and combines them into a single directory to run \"add_qiime_labels.py\" on them. \n",
      "# It also adds the filenames to a new mapping file. \n",
      "\n",
      "# Imports go here!\n",
      "import pandas as pd\n",
      "import glob\n",
      "import os\n",
      "import shutil\n",
      "\n",
      "# Make a dataframe with the existing map file information and initialize new map name. \n",
      "map_orig = \"../map/map_v1_corrected.txt\"\n",
      "map_corrected = \"../map/map_v2.txt\"\n",
      "map_orig_df = pd.read_csv(map_orig, sep = \"\\t\") # Successfully imported from the 6.9.15 directory\n",
      "\n",
      "\n",
      "# Glob the files I want from the post_split directory\n",
      "fna_files = glob.glob(\"../post_split/convert_fastq/*/seqs.fna\")\n",
      "\n",
      "# Make the output directory\n",
      "if not os.path.exists(\"../qiime_labeled\"):\n",
      "    os.makedirs(\"../qiime_labeled\")\n",
      "\n",
      "# Now move and rename each file\n",
      "for fna in fna_files[0:1]:\n",
      "    new_name = fna.split(\"/\")[3]\n",
      "    shutil.move(fna, \"../qiime_labeled/new_name\")\n",
      "    \n",
      "    \n",
      "\n",
      "#print len(fna_files)\n",
      "#print fna_files[0]\n",
      "#i=0\n",
      "#for fna_file in fna_files:\n",
      "#    print i\n",
      "#    print fna_file.split(\"convert_fastq\")[1]\n",
      "#    i+=1\n",
      "\n",
      "# With the seqs.fnas, I can move and rename them to qiime_labeled\n",
      "\n",
      "\n",
      "#print map_orig_df\n"
     ],
     "language": "python",
     "metadata": {},
     "outputs": [
      {
       "output_type": "stream",
       "stream": "stdout",
       "text": [
        "../post_split/convert_fastq/1-JG1-A1_S1_GTATCGTCGT.fixed.fna/seqs.fna\n",
        "1-JG1-A1_S1_GTATCGTCGT.fixed.fna\n"
       ]
      }
     ],
     "prompt_number": 16
    },
    {
     "cell_type": "code",
     "collapsed": false,
     "input": [
      "pwd"
     ],
     "language": "python",
     "metadata": {},
     "outputs": [
      {
       "metadata": {},
       "output_type": "pyout",
       "prompt_number": 11,
       "text": [
        "u'/Users/jimbo/Desktop/6.9.15_seq_data/Code'"
       ]
      }
     ],
     "prompt_number": 11
    },
    {
     "cell_type": "code",
     "collapsed": false,
     "input": [],
     "language": "python",
     "metadata": {},
     "outputs": []
    }
   ],
   "metadata": {}
  }
 ]
}