{
 "metadata": {
  "name": "",
  "signature": "sha256:a4ff74a09c447142c31556c4d3fe7d5c12d721242d2b6ac7393e7bc6e8692dc3"
 },
 "nbformat": 3,
 "nbformat_minor": 0,
 "worksheets": [
  {
   "cells": [
    {
     "cell_type": "markdown",
     "metadata": {},
     "source": [
      "I need to add the barcodes to the names\n",
      "\n",
      "\n",
      "\n",
      "QIIME produces a quality file with brackets but doesn't accept this as a valid output. \n",
      "In addition, my sequences have had the barcodes removed but no quality filtering. \n",
      "QIIME doesn't accept this as valid input to their quality filtering (split-libraries) script.\n",
      "This script: removes brackets at start and end of qual files. "
     ]
    },
    {
     "cell_type": "code",
     "collapsed": false,
     "input": [
      "# bracket fixer\n",
      "filepath = \"/Users/jimbo/Desktop/raw_sequence_trim/splittest2/splitfastq-q3/seqs.qual\"\n",
      "fixedpath = \"/Users/jimbo/Desktop/raw_sequence_trim/splittest2/splitfastq-q3/seqsqual_fixed.qual\"\n",
      "barcode_len = 10\n",
      "max_qual = \"40 \"\n",
      "\n",
      "g = open(fixedpath, \"w\")\n",
      "\n",
      "with open(filepath) as f:\n",
      "    for line in f:\n",
      "        if line.startswith(\">\"):\n",
      "            g.write(line)\n",
      "            nextline =1\n",
      "        elif nextline==1:\n",
      "            maxlen = len(line)\n",
      "            if line.startswith(\"[\"):\n",
      "                line = line[1:]\n",
      "            #print line\n",
      "            start = max_qual*barcode_len\n",
      "            newline = start + line[:-len(start)-1]+\"\\n\"\n",
      "            end = line[len(newline)-len(start):].rstrip()\n",
      "            nextline = 0\n",
      "            #print end\n",
      "            #print newline\n",
      "            g.write(newline)\n",
      "            \n",
      "            \n",
      "        elif nextline==0:\n",
      "            #print len(line)\n",
      "            if len(line)!=maxlen:\n",
      "                newline=end+line\n",
      "                #print end\n",
      "                #print line\n",
      "                #print newline\n",
      "                \n",
      "            if \"]\" in line:\n",
      "                line.replace(\"]\",\"\")\n",
      "            if len(line)==maxlen:    \n",
      "                newline = end + line[:-len(end)-1]+\"\\n\"\n",
      "                end = line[len(newline)-len(end)-1:].rstrip()\n",
      "                g.write(newline)\n",
      "            if len(newline)>maxlen:\n",
      "                #print 'actually works'\n",
      "                lastline = newline[maxlen-1:].replace(\"]\",\"\")\n",
      "                newline = newline[:maxlen-1]+\"\\n\"\n",
      "                \n",
      "                #print newline\n",
      "                #print lastline\n",
      "                \n",
      "                g.write(newline)\n",
      "                g.write(lastline)\n",
      "\n",
      "            #print line\n",
      "            #print newline\n",
      "            #print end\n",
      "        #print len(line)\n",
      "       #     print line\n",
      "       #     \n",
      "        \n",
      "       #     print newline\n",
      "       #     print end\n",
      "       #     end = line[len(newline)-len(end):]\n",
      "       #         g.write(newline)\n",
      "g.close()"
     ],
     "language": "python",
     "metadata": {},
     "outputs": [],
     "prompt_number": 47
    },
    {
     "cell_type": "code",
     "collapsed": false,
     "input": [
      "\"\"\" This script adds a high-quality barcode to each fasta quality entry, shifts the remaining quality scores down by\n",
      "the required number of bases, and removes []s from the quality score.\n",
      "\"\"\"\n",
      "# TO DO\n",
      "#Base filepaths, need to update and make this callable from terminal: \n",
      "#python quality-fixer.py path_in path_out barcode_length\n",
      "# ^^ Using argparse\n",
      "# last updated 5/11/15\n",
      "\n",
      "\n",
      "import argparse\n",
      "\n",
      "\n",
      "def main():\n",
      "    # Parses command line arguments and calls the split library fixing function on selected arguments\n",
      "    parser = argparse.ArgumentParser(description='Add barcodes for quality scores and remove [] from qual file')\n",
      "    parser.add_argument('qualin', metavar='q', type=str,\n",
      "                   help='path for quality score in')\n",
      "    parser.add_argument('qualout', metavar='Q', type=str,\n",
      "                   help='path for quality score output')\n",
      "    parser.add_argument('--barlen', metavar='barcode_len', type=str,\n",
      "                    default=\"10\", help='Length of barcode to add')\n",
      "    args = parser.parse_args()\n",
      "\n",
      "    split_lib_fixer(args)\n",
      "\n",
      "\n",
      "def split_lib_fixer(kwargs)\n",
      "# pass below as command line arguments when I put this in a file. \n",
      "filepath = \"/Users/jimbo/Desktop/raw_sequence_trim/splittest2/splitfastq-q3/seqs.qual\"\n",
      "fixedpath = \"/Users/jimbo/Desktop/raw_sequence_trim/splittest2/splitfastq-q3/seqsqual_fixed.qual\"\n",
      "barcode_len = 10\n",
      "max_qual = \"40 \"\n",
      "\n",
      "g = open(fixedpath, \"w\")\n",
      "\n",
      "with open(filepath) as f:\n",
      "    for line in f:\n",
      "        if line.startswith(\">\"):\n",
      "            g.write(line)\n",
      "            nextline =1\n",
      "        elif nextline==1:\n",
      "            maxlen = len(line)\n",
      "            if line.startswith(\"[\"):\n",
      "                line = line[1:]\n",
      "            start = max_qual*barcode_len\n",
      "            newline = start + line[:-len(start)-1]+\"\\n\"\n",
      "            end = line[len(newline)-len(start):].rstrip()\n",
      "            nextline = 0\n",
      "            g.write(newline)\n",
      "            \n",
      "        elif nextline==0:\n",
      "            if len(line)!=maxlen:\n",
      "                newline=end+line\n",
      "            if \"]\" in line:\n",
      "                line.replace(\"]\",\"\")\n",
      "            if len(line)==maxlen:    \n",
      "                newline = end + line[:-len(end)-1]+\"\\n\"\n",
      "                end = line[len(newline)-len(end)-1:].rstrip()\n",
      "                g.write(newline)\n",
      "            if len(newline)>maxlen:\n",
      "                lastline = newline[maxlen-1:].replace(\"]\",\"\")\n",
      "                newline = newline[:maxlen-1]+\"\\n\"\n",
      "                g.write(newline)\n",
      "                g.write(lastline)\n",
      "g.close()\n",
      "\n",
      "\n",
      "if __name__ == \"__main__\":\n",
      "    main()"
     ],
     "language": "python",
     "metadata": {},
     "outputs": [],
     "prompt_number": 38
    },
    {
     "cell_type": "code",
     "collapsed": false,
     "input": [],
     "language": "python",
     "metadata": {},
     "outputs": [],
     "prompt_number": 25
    },
    {
     "cell_type": "code",
     "collapsed": false,
     "input": [
      "bullstring = \"0123456789\"\n",
      "print len(bullstring)\n",
      "\n",
      "print bullstring[:4]\n",
      "print bullstring[4:]"
     ],
     "language": "python",
     "metadata": {},
     "outputs": [
      {
       "output_type": "stream",
       "stream": "stdout",
       "text": [
        "10\n",
        "0123\n",
        "456789\n"
       ]
      }
     ],
     "prompt_number": 37
    },
    {
     "cell_type": "code",
     "collapsed": false,
     "input": [
      "# barcode adder\n",
      "# This is simple, just take a fasta file, add barcode to each sequence\n",
      "\n",
      "# Specify input and output files\n",
      "filepath = \"/Users/jimbo/Desktop/raw_sequence_trim/splittest2/splitfastq-q3/seqs.fna\"\n",
      "filepath_out = \"/Users/jimbo/Desktop/raw_sequence_trim/splittest2/splitfastq-q3/seqstest_fixed.fna\"\n",
      "\n",
      "# get barcode from input file:\n",
      "with open(filepath, 'r') as h:\n",
      "  first_line = h.readline()\n",
      "barcode = first_line.split(\"orig_bc=\")[1].split(\" \")[0] #after extract_BC\n",
      "#barcode = filepath.split(\"Jim\")[1].split(\"_L001\")[0].split(\"_\")[1]  # original fastq file\n",
      "print barcode\n",
      "\n",
      "g = open(filepath_out, \"w\")\n",
      "\n",
      "with open(filepath) as f:\n",
      "    for line in f:\n",
      "        if line.startswith(\">\"):\n",
      "            g.write(line)\n",
      "        else:\n",
      "            line=barcode+line\n",
      "            g.write(line)\n",
      "            \n",
      "g.close()\n",
      "\n"
     ],
     "language": "python",
     "metadata": {},
     "outputs": [
      {
       "output_type": "stream",
       "stream": "stdout",
       "text": [
        "ACCATGAGTC\n"
       ]
      }
     ],
     "prompt_number": 60
    },
    {
     "cell_type": "code",
     "collapsed": false,
     "input": [
      "#for my usearch analysis: I just need to add the barcodes to each sequence name or? "
     ],
     "language": "python",
     "metadata": {},
     "outputs": []
    },
    {
     "cell_type": "code",
     "collapsed": false,
     "input": [
      "# undoing usearch stuff: * This should be step 1. BUT- last time I had barcodes in my sequence \n",
      "# 7/6/15\n",
      "import glob\n",
      "import pandas as pd\n",
      "\n",
      "fastq_files =  glob.glob(\"/Users/jimbo/Desktop/6.9.15_seq_data/Raw_seq_work/old_seqs/*.fastq\")\n",
      "out_path = \"../Raw_seq_work/usearch_labels_in_seq_names/\"\n",
      "print fastq_files\n",
      "# need to import a mapping file and add this to the first line. \n",
      "\n",
      "\n",
      "\n",
      "#for fastq in fastq_files:\n",
      "#    fastq_name = fastq.split(\"old_seqs/\")[1]\n",
      "##    print fastq_name\n",
      "##    barcode = fastq_name.split(\"_\")[2].split(\".\")[0]\n",
      " #   print barcode\n",
      "for fastq in fastq_files:\n",
      "    fastq_name = fastq.split(\"old_seqs/\")[1]#.split(\"_usearch_\")\n",
      "    fastq_name =  fastq_name.split(\"_usearch_\")[0]+\n",
      "    print fastq_name\n",
      "    barcode = fastq_name.split(\"_\")[1]\n",
      "    print barcode\n",
      "    with open(fastq) as f:\n",
      "        linecount=0\n",
      "        with open(out_path+fastq_name, \"w\") as g:\n",
      "            for line in f:\n",
      "                if linecount==0:\n",
      "                    line=line.rstrip()+\" 1:N:0:;barcodelabel=\"+barcode+\"\\n\"\n",
      "                    linecount+=1\n",
      "                    g.write(line)\n",
      "                elif linecount==1:\n",
      "                    line=line\n",
      "                    linecount+=1\n",
      "                    g.write(line)\n",
      "                elif linecount==2:\n",
      "                    linecount+=1\n",
      "                    g.write(line)\n",
      "                elif linecount==3:\n",
      "     #               \n",
      "                    newline=line\n",
      "                    g.write(newline)\n",
      "                    linecount=0\n",
      "            \n",
      "                    \n",
      "                    \n",
      "\n",
      "\n",
      "\n",
      "#ex_fastq = \"./repear/paired/usearch_filtered/Jim10_ACGCAGGAGT_usearch_filtered.fastq\"\n",
      "\n",
      "\n"
     ],
     "language": "python",
     "metadata": {},
     "outputs": [
      {
       "output_type": "stream",
       "stream": "stdout",
       "text": [
        "['/Users/jimbo/Desktop/6.9.15_seq_data/Raw_seq_work/old_seqs/Jim10_ACGCAGGAGT_usearch_filtered.fastq.fixed.fastq', '/Users/jimbo/Desktop/6.9.15_seq_data/Raw_seq_work/old_seqs/Jim11_AATATGCTGC_usearch_filtered.fastq.fixed.fastq', '/Users/jimbo/Desktop/6.9.15_seq_data/Raw_seq_work/old_seqs/Jim12_AAGCGTAGAA_usearch_filtered.fastq.fixed.fastq', '/Users/jimbo/Desktop/6.9.15_seq_data/Raw_seq_work/old_seqs/Jim13_GACAGCAAGC_usearch_filtered.fastq.fixed.fastq', '/Users/jimbo/Desktop/6.9.15_seq_data/Raw_seq_work/old_seqs/Jim14_CTGACCGAGA_usearch_filtered.fastq.fixed.fastq', '/Users/jimbo/Desktop/6.9.15_seq_data/Raw_seq_work/old_seqs/Jim15_CGCGACTTGT_usearch_filtered.fastq.fixed.fastq', '/Users/jimbo/Desktop/6.9.15_seq_data/Raw_seq_work/old_seqs/Jim16_CATCAACATG_usearch_filtered.fastq.fixed.fastq', '/Users/jimbo/Desktop/6.9.15_seq_data/Raw_seq_work/old_seqs/Jim17_TGGCTACGCT_usearch_filtered.fastq.fixed.fastq', '/Users/jimbo/Desktop/6.9.15_seq_data/Raw_seq_work/old_seqs/Jim18_ACGCGGACTA_usearch_filtered.fastq.fixed.fastq', '/Users/jimbo/Desktop/6.9.15_seq_data/Raw_seq_work/old_seqs/Jim19_AGAGGTCGGA_usearch_filtered.fastq.fixed.fastq', '/Users/jimbo/Desktop/6.9.15_seq_data/Raw_seq_work/old_seqs/Jim1_ACCATGAGTC_usearch_filtered.fastq.fixed.fastq', '/Users/jimbo/Desktop/6.9.15_seq_data/Raw_seq_work/old_seqs/Jim20_AATCGAGCGT_usearch_filtered.fastq.fixed.fastq', '/Users/jimbo/Desktop/6.9.15_seq_data/Raw_seq_work/old_seqs/Jim21_AAGTACACTC_usearch_filtered.fastq.fixed.fastq', '/Users/jimbo/Desktop/6.9.15_seq_data/Raw_seq_work/old_seqs/Jim22_AGCTGAATGA_usearch_filtered.fastq.fixed.fastq', '/Users/jimbo/Desktop/6.9.15_seq_data/Raw_seq_work/old_seqs/Jim4_ACTCAGTTAC_usearch_filtered.fastq.fixed.fastq', '/Users/jimbo/Desktop/6.9.15_seq_data/Raw_seq_work/old_seqs/Jim7_AGTGGTGATC_usearch_filtered.fastq.fixed.fastq', '/Users/jimbo/Desktop/6.9.15_seq_data/Raw_seq_work/old_seqs/Jim8_ACTTCTTAGC_usearch_filtered.fastq.fixed.fastq', '/Users/jimbo/Desktop/6.9.15_seq_data/Raw_seq_work/old_seqs/Jim9_GCCACATATA_usearch_filtered.fastq.fixed.fastq']\n",
        "Jim10_ACGCAGGAGT\n",
        "ACGCAGGAGT\n",
        "Jim11_AATATGCTGC"
       ]
      },
      {
       "output_type": "stream",
       "stream": "stdout",
       "text": [
        "\n",
        "AATATGCTGC\n",
        "Jim12_AAGCGTAGAA"
       ]
      },
      {
       "output_type": "stream",
       "stream": "stdout",
       "text": [
        "\n",
        "AAGCGTAGAA\n",
        "Jim13_GACAGCAAGC"
       ]
      },
      {
       "output_type": "stream",
       "stream": "stdout",
       "text": [
        "\n",
        "GACAGCAAGC\n",
        "Jim14_CTGACCGAGA"
       ]
      },
      {
       "output_type": "stream",
       "stream": "stdout",
       "text": [
        "\n",
        "CTGACCGAGA\n",
        "Jim15_CGCGACTTGT"
       ]
      },
      {
       "output_type": "stream",
       "stream": "stdout",
       "text": [
        "\n",
        "CGCGACTTGT\n",
        "Jim16_CATCAACATG"
       ]
      },
      {
       "output_type": "stream",
       "stream": "stdout",
       "text": [
        "\n",
        "CATCAACATG\n",
        "Jim17_TGGCTACGCT"
       ]
      },
      {
       "output_type": "stream",
       "stream": "stdout",
       "text": [
        "\n",
        "TGGCTACGCT\n",
        "Jim18_ACGCGGACTA"
       ]
      },
      {
       "output_type": "stream",
       "stream": "stdout",
       "text": [
        "\n",
        "ACGCGGACTA\n",
        "Jim19_AGAGGTCGGA"
       ]
      },
      {
       "output_type": "stream",
       "stream": "stdout",
       "text": [
        "\n",
        "AGAGGTCGGA\n",
        "Jim1_ACCATGAGTC"
       ]
      },
      {
       "output_type": "stream",
       "stream": "stdout",
       "text": [
        "\n",
        "ACCATGAGTC\n",
        "Jim20_AATCGAGCGT"
       ]
      },
      {
       "output_type": "stream",
       "stream": "stdout",
       "text": [
        "\n",
        "AATCGAGCGT\n",
        "Jim21_AAGTACACTC"
       ]
      },
      {
       "output_type": "stream",
       "stream": "stdout",
       "text": [
        "\n",
        "AAGTACACTC\n",
        "Jim22_AGCTGAATGA"
       ]
      },
      {
       "output_type": "stream",
       "stream": "stdout",
       "text": [
        "\n",
        "AGCTGAATGA\n",
        "Jim4_ACTCAGTTAC"
       ]
      },
      {
       "output_type": "stream",
       "stream": "stdout",
       "text": [
        "\n",
        "ACTCAGTTAC\n",
        "Jim7_AGTGGTGATC"
       ]
      },
      {
       "output_type": "stream",
       "stream": "stdout",
       "text": [
        "\n",
        "AGTGGTGATC\n",
        "Jim8_ACTTCTTAGC"
       ]
      },
      {
       "output_type": "stream",
       "stream": "stdout",
       "text": [
        "\n",
        "ACTTCTTAGC\n",
        "Jim9_GCCACATATA"
       ]
      },
      {
       "output_type": "stream",
       "stream": "stdout",
       "text": [
        "\n",
        "GCCACATATA\n"
       ]
      }
     ],
     "prompt_number": 29
    },
    {
     "cell_type": "code",
     "collapsed": false,
     "input": [
      "# Add barcodes to sequences by matching barcodes from a mapping file to a substring of the file name. \n",
      "\n",
      "import glob\n",
      "import pandas as pd\n",
      "\n",
      "# Define directories\n",
      "fastq_files =  glob.glob(\"/Users/jimbo/Desktop/6.9.15_seq_data/Raw_seq_work/old_seqs/*.fastq\")\n",
      "out_path = \"../usearch_sample_names_in_seqs/\"\n",
      "\n",
      "# Import the mapping file\n",
      "mapdf = pd.read_csv(\"../map/map_v3_old_seqs_added.txt.txt\", sep=\"\\t\")\n",
      "#print mapdf\n",
      "\n",
      "\n",
      "# Get the substring from the fastq file that matches the mapping file name. \n",
      "for fastq in fastq_files:\n",
      "    split1 = fastq.split(\"George\")[1]\n",
      "    split4 = split1.split(\"_usearch\")[0]\n",
      "    split2 = split1.split(\"_\")[0]\n",
      "    split3 = split2.split(\"-\", 1)[1]\n",
      "    #print split1, split2, split3\n",
      "    #print split3\n",
      "    try:\n",
      "        barcode = mapdf[mapdf.SampleID==split3].BarcodeSequence.values[0]\n",
      "        #print barcode\n",
      "    except:\n",
      "        print split3+\"\\n\"\n",
      "    with open(fastq) as f:\n",
      "        linecount=0\n",
      "        with open(out_path+split4+\"_\"+barcode+\".fixed.fastq\", \"w\") as g:\n",
      "            for line in f:\n",
      "                if linecount==0:\n",
      "                    line=line.rstrip()+\" 1:N:0:\"+barcode+\"\\n\"\n",
      "                    linecount+=1\n",
      "                    g.write(line)\n",
      "                elif linecount==1:\n",
      "                    line=barcode+line\n",
      "                    linecount+=1\n",
      "                    g.write(line)\n",
      "                elif linecount==2:\n",
      "                    linecount+=1\n",
      "                    g.write(line)\n",
      "                elif linecount==3:\n",
      "                    \n",
      "                    newline=\">\"+\"I\"*len(barcode)+line[1:]\n",
      "                    g.write(newline)\n",
      "                    linecount=0\n",
      "        \n"
     ],
     "language": "python",
     "metadata": {},
     "outputs": [],
     "prompt_number": 10
    },
    {
     "cell_type": "code",
     "collapsed": false,
     "input": [
      "\"1\"*5"
     ],
     "language": "python",
     "metadata": {},
     "outputs": [
      {
       "metadata": {},
       "output_type": "pyout",
       "prompt_number": 68,
       "text": [
        "'11111'"
       ]
      }
     ],
     "prompt_number": 68
    },
    {
     "cell_type": "code",
     "collapsed": false,
     "input": [
      "pwd"
     ],
     "language": "python",
     "metadata": {},
     "outputs": [
      {
       "metadata": {},
       "output_type": "pyout",
       "prompt_number": 1,
       "text": [
        "u'/Users/jimbo/Desktop/6.9.15_seq_data/Code'"
       ]
      }
     ],
     "prompt_number": 1
    },
    {
     "cell_type": "code",
     "collapsed": false,
     "input": [
      "#print fastq_files\n",
      "for fastq in fastq_files:\n",
      "    fastq_name = fastq.split(\"old_seqs/\")[1]#.split(\"_usearch_\")\n",
      "    fastq_name =  fastq_name.split(\"_usearch_\")[0]\n",
      "    print fastq_name\n",
      "    barcode = fastq_name.split(\"_\")[1]\n",
      "    print barcode"
     ],
     "language": "python",
     "metadata": {},
     "outputs": [
      {
       "output_type": "stream",
       "stream": "stdout",
       "text": [
        "Jim10_ACGCAGGAGT\n",
        "ACGCAGGAGT\n",
        "Jim11_AATATGCTGC\n",
        "AATATGCTGC\n",
        "Jim12_AAGCGTAGAA\n",
        "AAGCGTAGAA\n",
        "Jim13_GACAGCAAGC\n",
        "GACAGCAAGC\n",
        "Jim14_CTGACCGAGA\n",
        "CTGACCGAGA\n",
        "Jim15_CGCGACTTGT\n",
        "CGCGACTTGT\n",
        "Jim16_CATCAACATG\n",
        "CATCAACATG\n",
        "Jim17_TGGCTACGCT\n",
        "TGGCTACGCT\n",
        "Jim18_ACGCGGACTA\n",
        "ACGCGGACTA\n",
        "Jim19_AGAGGTCGGA\n",
        "AGAGGTCGGA\n",
        "Jim1_ACCATGAGTC\n",
        "ACCATGAGTC\n",
        "Jim20_AATCGAGCGT\n",
        "AATCGAGCGT\n",
        "Jim21_AAGTACACTC\n",
        "AAGTACACTC\n",
        "Jim22_AGCTGAATGA\n",
        "AGCTGAATGA\n",
        "Jim4_ACTCAGTTAC\n",
        "ACTCAGTTAC\n",
        "Jim7_AGTGGTGATC\n",
        "AGTGGTGATC\n",
        "Jim8_ACTTCTTAGC\n",
        "ACTTCTTAGC\n",
        "Jim9_GCCACATATA\n",
        "GCCACATATA\n"
       ]
      }
     ],
     "prompt_number": 28
    },
    {
     "cell_type": "code",
     "collapsed": false,
     "input": [],
     "language": "python",
     "metadata": {},
     "outputs": []
    }
   ],
   "metadata": {}
  }
 ]
}