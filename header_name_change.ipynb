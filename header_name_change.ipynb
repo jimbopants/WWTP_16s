{
 "metadata": {
  "name": "",
  "signature": "sha256:80583952008093528ad325b521f8b8eb49b9d4a30227e8ffd2da6ccf466ac84f"
 },
 "nbformat": 3,
 "nbformat_minor": 0,
 "worksheets": [
  {
   "cells": [
    {
     "cell_type": "code",
     "collapsed": false,
     "input": [
      "# Take a mapping file and a datafile with a header or a column with sample labels to change.\n",
      "\n",
      "# From the mapping file, create a dictionary with the barcode:\"sample_name\"\n",
      "# For each item in header, if the item is in the dictionary, take the value.\n",
      "\n",
      "# Imports\n",
      "import pandas as pd\n",
      "\n",
      "# Read map & datafile\n",
      "path_to_map = \"/Users/jimbo/Desktop/6.9.15_seq_data/usearch/uparse_map.txt\"\n",
      "file_to_fix = \"/Users/jimbo/Desktop/6.9.15_seq_data/alpha_diversity/alpha_rare_uparse/alpha_collated3/observed_species.txt\"\n",
      "map_df = pd.read_csv(path_to_map, sep=\"\\t\")\n",
      "file_df = pd.read_csv(file_to_fix, sep=\"\\t\")\n",
      "\n",
      "#print file_df\n",
      "\n",
      "# Get barcodes and descriptions into a dictionary\n",
      "barcodes = map_df[\"#SampleID\"].values\n",
      "values = map_df[\"Description\"]\n",
      "barcode_value_dict = dict(zip(barcodes, values))\n",
      "#print barcode_value_dict\n",
      "\n",
      "\n",
      "col_names = file_df.columns.values\n",
      "new_col_names = []\n",
      "for name in col_names:\n",
      "    if name in barcode_value_dict:\n",
      "        name = barcode_value_dict[name]\n",
      "    new_col_names.append(name)\n",
      "#print new_col_names\n",
      "\n",
      "file_df.columns = new_col_names\n",
      "# I should write a test function that takes the input file, output file, and mapping file, \n",
      "# and matches each colummn to make sure that this works. \n",
      "\n",
      "file_df.to_csv(file_to_fix+\".fixed.txt\", sep=\"\\t\")\n"
     ],
     "language": "python",
     "metadata": {},
     "outputs": [],
     "prompt_number": 20
    },
    {
     "cell_type": "code",
     "collapsed": false,
     "input": [
      "lis = ['a', 'b']\n",
      "lis.append('c')\n",
      "print lis"
     ],
     "language": "python",
     "metadata": {},
     "outputs": [
      {
       "output_type": "stream",
       "stream": "stdout",
       "text": [
        "['a', 'b', 'c']\n"
       ]
      }
     ],
     "prompt_number": 15
    },
    {
     "cell_type": "code",
     "collapsed": false,
     "input": [],
     "language": "python",
     "metadata": {},
     "outputs": []
    }
   ],
   "metadata": {}
  }
 ]
}